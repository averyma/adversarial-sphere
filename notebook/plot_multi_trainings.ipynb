{
 "cells": [
  {
   "cell_type": "code",
   "execution_count": null,
   "metadata": {},
   "outputs": [],
   "source": [
    "import torch\n",
    "from utils_general import *"
   ]
  },
  {
   "cell_type": "code",
   "execution_count": null,
   "metadata": {},
   "outputs": [],
   "source": [
    "import torch\n",
    "import numpy as np\n",
    "import random\n",
    "import ipdb\n",
    "import os\n",
    "import matplotlib.pyplot as plt\n",
    "import warnings\n",
    "warnings.filterwarnings(\"ignore\")\n",
    "from utils_sphere import *\n",
    "\n",
    "AVOID_ZERO_DIV = 1e-12\n",
    "FORCE_POSITIVE_WEIGHT = -1e-6\n"
   ]
  },
  {
   "cell_type": "code",
   "execution_count": null,
   "metadata": {},
   "outputs": [],
   "source": [
    "stats_clean = torch.load(\"./exp/453840/stats.pt\")\n",
    "stats_truemax = torch.load(\"./exp/453841/stats.pt\")\n",
    "\n",
    "stats_a001_it1 = torch.load(\"./exp/453843/stats.pt\")\n",
    "stats_a001_it5 = torch.load(\"./exp/453845/stats.pt\")\n",
    "stats_a001_it10 = torch.load(\"./exp/453847/stats.pt\")\n",
    "stats_a001_it50 = torch.load(\"./exp/453849/stats.pt\")\n",
    "stats_a001_it100 = torch.load(\"./exp/453851/stats.pt\")\n",
    "\n",
    "stats = {\"truemax\": stats_truemax, \"clean\": stats_clean, 1:stats_a001_it1, 5: stats_a001_it5, 10: stats_a001_it10, 50: stats_a001_it50, 100: stats_a001_it100}"
   ]
  },
  {
   "cell_type": "code",
   "execution_count": null,
   "metadata": {},
   "outputs": [],
   "source": [
    "fig = plot_stats_multi(stats, True)"
   ]
  }
 ],
 "metadata": {
  "kernelspec": {
   "display_name": "Python (general)",
   "language": "python",
   "name": "general"
  },
  "language_info": {
   "codemirror_mode": {
    "name": "ipython",
    "version": 3
   },
   "file_extension": ".py",
   "mimetype": "text/x-python",
   "name": "python",
   "nbconvert_exporter": "python",
   "pygments_lexer": "ipython3",
   "version": "3.6.7"
  }
 },
 "nbformat": 4,
 "nbformat_minor": 4
}
