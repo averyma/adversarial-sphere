{
 "cells": [
  {
   "cell_type": "code",
   "execution_count": null,
   "metadata": {
    "code_folding": [],
    "scrolled": true
   },
   "outputs": [],
   "source": [
    "# %matplotlib notebook\n",
    "%load_ext autoreload\n",
    "%autoreload 2\n",
    "\n",
    "import torch\n",
    "import torch.optim as optim\n",
    "from model import quad\n",
    "from utils_general import *\n",
    "from sphere import *"
   ]
  },
  {
   "cell_type": "markdown",
   "metadata": {},
   "source": [
    "# Hyper-param Config"
   ]
  },
  {
   "cell_type": "code",
   "execution_count": null,
   "metadata": {},
   "outputs": [],
   "source": [
    "_device = torch.device(\"cuda:0\" if torch.cuda.is_available() else \"cpu\")\n",
    "_lr_rate = 0.0001\n",
    "batch_size = 50\n",
    "total_samples = 100e6 # use total samples for clean/adv training\n",
    "total_iterations = 4e3 # use total iterations for true max training\n",
    "r = 1.3\n",
    "dim = 500\n",
    "err_freq = 100\n",
    "# pgd_itr = 1 # set pgd_itr for adv training\n",
    "seed = 0\n",
    "param = {\"alpha\": 0.1, \"num_iter\": 50}"
   ]
  },
  {
   "cell_type": "markdown",
   "metadata": {},
   "source": [
    "# Training begins"
   ]
  },
  {
   "cell_type": "code",
   "execution_count": null,
   "metadata": {
    "scrolled": false
   },
   "outputs": [],
   "source": [
    "seed_everything(seed)\n",
    "_model = quad().to(_device)\n",
    "# _model = make_perfect_model(_model, r, _device)\n",
    "_opt = optim.Adam(_model.parameters(), lr = _lr_rate)\n",
    "\n",
    "# stats = train_clean(dim, r, total_samples, batch_size, err_freq, _model, _opt, _device)\n",
    "# stats = train_adv_mixed_normalized(param, dim, r, total_samples, batch_size, err_freq, _model, _opt, _device)\n",
    "stats = train_truemax(dim, r, total_iterations, err_freq, _model, _opt, _device)"
   ]
  },
  {
   "cell_type": "markdown",
   "metadata": {},
   "source": [
    "# Plot results"
   ]
  },
  {
   "cell_type": "code",
   "execution_count": null,
   "metadata": {},
   "outputs": [],
   "source": [
    "fig = plot_stats(stats, True)"
   ]
  }
 ],
 "metadata": {
  "kernelspec": {
   "display_name": "Python (general)",
   "language": "python",
   "name": "general"
  },
  "language_info": {
   "codemirror_mode": {
    "name": "ipython",
    "version": 3
   },
   "file_extension": ".py",
   "mimetype": "text/x-python",
   "name": "python",
   "nbconvert_exporter": "python",
   "pygments_lexer": "ipython3",
   "version": "3.6.7"
  },
  "varInspector": {
   "cols": {
    "lenName": 16,
    "lenType": 16,
    "lenVar": 40
   },
   "kernels_config": {
    "python": {
     "delete_cmd_postfix": "",
     "delete_cmd_prefix": "del ",
     "library": "var_list.py",
     "varRefreshCmd": "print(var_dic_list())"
    },
    "r": {
     "delete_cmd_postfix": ") ",
     "delete_cmd_prefix": "rm(",
     "library": "var_list.r",
     "varRefreshCmd": "cat(var_dic_list()) "
    }
   },
   "oldHeight": 466,
   "position": {
    "height": "779px",
    "left": "1259px",
    "right": "20px",
    "top": "71px",
    "width": "395px"
   },
   "types_to_exclude": [
    "module",
    "function",
    "builtin_function_or_method",
    "instance",
    "_Feature"
   ],
   "varInspector_section_display": "block",
   "window_display": false
  }
 },
 "nbformat": 4,
 "nbformat_minor": 2
}
